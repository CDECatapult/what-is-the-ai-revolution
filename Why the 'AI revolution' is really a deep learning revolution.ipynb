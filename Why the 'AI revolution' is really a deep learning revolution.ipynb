{
 "cells": [
  {
   "cell_type": "code",
   "execution_count": 1,
   "metadata": {
    "collapsed": true
   },
   "outputs": [],
   "source": [
    "import pandas as pd\n",
    "import matplotlib.pyplot as plt\n",
    "from sklearn.feature_extraction.text import CountVectorizer\n",
    "import numpy as np\n",
    "from collections import Counter\n",
    "import itertools\n",
    "\n",
    "def flatten(listOfLists):\n",
    "    \"Flatten one level of nesting\"\n",
    "    return itertools.chain.from_iterable(listOfLists)\n",
    "\n",
    "%matplotlib inline"
   ]
  },
  {
   "cell_type": "markdown",
   "metadata": {},
   "source": [
    "# Why the 'AI revolution' is really a deep learning revolution\n",
    "\n",
    "## Introduction\n",
    "\n",
    "We often hear that there's been an explosion in AI research, that AI is advancing a breakneck speed.\n",
    "However, when we look at computer science publications we see no evidence of such changes in the AI research landscape.\n",
    "Infact many traditional fields such as logic programming, evolutionary algorithms, bayesian statistics appear to be on the decline.\n",
    "What we do see is a unprecidented explosion of publications in the field of deep learning.\n",
    "Since 2012 deep learning has gone from an unused term to a phrase that dominates the landscape.\n",
    "We estimate that more than one fith of AI or similar publications are now part of a deep learning gold rush.\n",
    "It is this explosion in deep learning that is fueling the latest media round of interest in AI.\n",
    "\n",
    "## Dataset\n",
    "\n",
    "arXiv is a free and open reposity for preprints of accademic papers that have been approved for publication after moderation. \n",
    "\n",
    "We take the titles of arXiv computer science publications tagged with any of the following catagories:\n",
    "\n",
    "* AI - Artificial Intelligence\n",
    "    * Covers all areas of AI except Vision, Robotics, Machine Learning, Multiagent Systems, and Computation and Language (Natural Language Processing), which have separate subject areas. In particular, includes Expert Systems, Theorem Proving (although this may overlap with Logic in Computer Science), Knowledge Representation, Planning, and Uncertainty in AI. \n",
    "* CL - Computation and Language (Computational Linguistics and Natural Language and Speech Processing)\n",
    "    * Covers natural language processing. \n",
    "* CV - Computer Vision and Pattern Recognition\n",
    "    * Covers image processing, computer vision, pattern recognition, and scene understanding.\n",
    "* LG - Machine Learning\n",
    "    * Covers machine learning and computational (PAC) learning. \n",
    "* NE - Neural and Evolutionary Computation\n",
    "    * Covers neural networks, connectionism, genetic algorithms, artificial life, adaptive behavior. "
   ]
  },
  {
   "cell_type": "code",
   "execution_count": 2,
   "metadata": {
    "collapsed": true
   },
   "outputs": [],
   "source": [
    "## uncomment and run the cell to download all of the data direct from arxiv (~1 hour)\n",
    "\n",
    "# ! python scrape.py > data.jsonlines\n",
    "# tags = [\"cs.AI\", \"cs.CL\", \"cs.CV\", \"cs.LG\", \"cs.NE\"]\n",
    "# data = pd.read_json('./data.jsonlines', lines=True)\n",
    "# data = data[data.catagories.apply(lambda records: any((item in records for item in tags)))]\n",
    "# data['year'] = data['created'].str.split('-').apply(lambda x: int(x[0]))\n",
    "# data = data[np.logical_and(data['year'] > 1996, data['year'] < 2018)]\n",
    "# data.to_json('filtered.jsonlines', lines=True, orient='records')"
   ]
  },
  {
   "cell_type": "code",
   "execution_count": 3,
   "metadata": {},
   "outputs": [
    {
     "data": {
      "text/html": [
       "<div>\n",
       "<style>\n",
       "    .dataframe thead tr:only-child th {\n",
       "        text-align: right;\n",
       "    }\n",
       "\n",
       "    .dataframe thead th {\n",
       "        text-align: left;\n",
       "    }\n",
       "\n",
       "    .dataframe tbody tr th {\n",
       "        vertical-align: top;\n",
       "    }\n",
       "</style>\n",
       "<table border=\"1\" class=\"dataframe\">\n",
       "  <thead>\n",
       "    <tr style=\"text-align: right;\">\n",
       "      <th></th>\n",
       "      <th>title</th>\n",
       "      <th>year</th>\n",
       "      <th>catagories</th>\n",
       "    </tr>\n",
       "  </thead>\n",
       "  <tbody>\n",
       "    <tr>\n",
       "      <th>0</th>\n",
       "      <td>Towards a human eye behavior model by applying...</td>\n",
       "      <td>2008</td>\n",
       "      <td>[cs.HC, cs.NE]</td>\n",
       "    </tr>\n",
       "    <tr>\n",
       "      <th>1</th>\n",
       "      <td>Eye-Tracking Evolutionary Algorithm to minimiz...</td>\n",
       "      <td>2008</td>\n",
       "      <td>[cs.AI]</td>\n",
       "    </tr>\n",
       "    <tr>\n",
       "      <th>2</th>\n",
       "      <td>Node discovery in a networked organization</td>\n",
       "      <td>2008</td>\n",
       "      <td>[cs.AI]</td>\n",
       "    </tr>\n",
       "    <tr>\n",
       "      <th>3</th>\n",
       "      <td>Robustness and Regularization of Support Vecto...</td>\n",
       "      <td>2008</td>\n",
       "      <td>[cs.LG, cs.AI]</td>\n",
       "    </tr>\n",
       "    <tr>\n",
       "      <th>4</th>\n",
       "      <td>Multiagent Approach for the Representation of ...</td>\n",
       "      <td>2008</td>\n",
       "      <td>[cs.AI]</td>\n",
       "    </tr>\n",
       "  </tbody>\n",
       "</table>\n",
       "</div>"
      ],
      "text/plain": [
       "                                               title  year      catagories\n",
       "0  Towards a human eye behavior model by applying...  2008  [cs.HC, cs.NE]\n",
       "1  Eye-Tracking Evolutionary Algorithm to minimiz...  2008         [cs.AI]\n",
       "2         Node discovery in a networked organization  2008         [cs.AI]\n",
       "3  Robustness and Regularization of Support Vecto...  2008  [cs.LG, cs.AI]\n",
       "4  Multiagent Approach for the Representation of ...  2008         [cs.AI]"
      ]
     },
     "execution_count": 3,
     "metadata": {},
     "output_type": "execute_result"
    }
   ],
   "source": [
    "# otherwise load the prefilted data from the repo\n",
    "data = pd.read_json('./filtered.jsonlines', lines=True)[['title', 'year', 'catagories']]\n",
    "data.head()"
   ]
  },
  {
   "cell_type": "code",
   "execution_count": 4,
   "metadata": {},
   "outputs": [
    {
     "data": {
      "text/plain": [
       "43244"
      ]
     },
     "execution_count": 4,
     "metadata": {},
     "output_type": "execute_result"
    }
   ],
   "source": [
    "len(data)"
   ]
  },
  {
   "cell_type": "markdown",
   "metadata": {},
   "source": [
    "## Preprocessing\n",
    "\n",
    "Below we create columns in the dataset to mark the presence of some key words."
   ]
  },
  {
   "cell_type": "code",
   "execution_count": 5,
   "metadata": {
    "collapsed": true
   },
   "outputs": [],
   "source": [
    "data['is_deep'] = data['title'].str.contains('deep', case=False)\n",
    "data['is_adversarial'] = data['title'].str.contains('adversarial', case=False)\n",
    "data['is_reinforcement'] = data['title'].str.contains('reinforcement', case=False)\n",
    "data['is_convolutional'] = data['title'].str.contains('convolutional', case=False)\n",
    "data['is_ai'] = data['title'].str.contains(' ai ', case=False)\n",
    "data['is_artificial_intelligence'] = data['title'].str.contains('artificial intelligence', case=False)\n",
    "data['is_logic'] = data['title'].str.contains('logic', case=False)\n",
    "data['is_evolutionary'] = data['title'].str.contains('evolutionary', case=False)"
   ]
  },
  {
   "cell_type": "markdown",
   "metadata": {},
   "source": [
    "## Results\n",
    "\n",
    "### Word counts, in titles, per year\n",
    "\n",
    "Fuzzy logic and logical programming were staples of AI research through the late ninties and early 21st century.\n",
    "Below we can see a steady rate of publications containing the word `logic` in the title. \n",
    "There has been a gradual decline since 2002 as a share of the total number of publications."
   ]
  },
  {
   "cell_type": "code",
   "execution_count": 6,
   "metadata": {},
   "outputs": [
    {
     "data": {
      "image/png": "[encoded data removed]",
      "text/plain": [
       "<matplotlib.figure.Figure at 0x10db8a358>"
      ]
     },
     "metadata": {},
     "output_type": "display_data"
    }
   ],
   "source": [
    "counts = {}\n",
    "for year, group in data.groupby('year'):\n",
    "    counts[year] = {'freq': sum(group['is_logic'] > 0), 'total': len(group)}\n",
    "    \n",
    "hist = []\n",
    "years = sorted(counts.keys())    \n",
    "for year in years:\n",
    "    hist.append(100 * counts[year]['freq'] / counts[year]['total'])\n",
    "\n",
    "plt.xlabel('year')\n",
    "plt.title('Percentage of titles containing \"logic\" for each year')\n",
    "plt.bar(years, hist)\n",
    "plt.show()"
   ]
  },
  {
   "cell_type": "markdown",
   "metadata": {},
   "source": [
    "Similarly evolutionary algorithms peaked around 2004 with a gradual rise and fall either side."
   ]
  },
  {
   "cell_type": "code",
   "execution_count": 7,
   "metadata": {},
   "outputs": [
    {
     "data": {
      "image/png": "[encoded data removed]",
      "text/plain": [
       "<matplotlib.figure.Figure at 0x10db97a90>"
      ]
     },
     "metadata": {},
     "output_type": "display_data"
    }
   ],
   "source": [
    "counts = {}\n",
    "for year, group in data.groupby('year'):\n",
    "    counts[year] = {'freq': sum(group['is_evolutionary'] > 0), 'total': len(group)}\n",
    "    \n",
    "hist = []\n",
    "years = sorted(counts.keys())    \n",
    "for year in years:\n",
    "    hist.append(100 * counts[year]['freq'] / counts[year]['total'])\n",
    "\n",
    "plt.xlabel('year')\n",
    "plt.title('Percentage of titles containing \"evolutionary\" for each year')\n",
    "plt.bar(years, hist)\n",
    "plt.show()"
   ]
  },
  {
   "cell_type": "markdown",
   "metadata": {},
   "source": [
    "In stark contrast with the previous two examples titles containing the word deep have exploded."
   ]
  },
  {
   "cell_type": "code",
   "execution_count": 8,
   "metadata": {},
   "outputs": [
    {
     "data": {
      "image/png": "[encoded data removed]",
      "text/plain": [
       "<matplotlib.figure.Figure at 0x10db85828>"
      ]
     },
     "metadata": {},
     "output_type": "display_data"
    }
   ],
   "source": [
    "counts = {}\n",
    "for year, group in data.groupby('year'):\n",
    "    counts[year] = {\n",
    "        'freq': sum(group['is_deep']),\n",
    "        'total': len(group)\n",
    "    }\n",
    "\n",
    "hist = []\n",
    "years = sorted(counts.keys())\n",
    "for year in years:\n",
    "    hist.append(100 * counts[year]['freq'] / counts[year]['total'])\n",
    "\n",
    "plt.xlabel('year')\n",
    "plt.title('Percentage of titles containing the \"deep\" for each year')\n",
    "\n",
    "plt.bar(years, hist)\n",
    "plt.show()"
   ]
  },
  {
   "cell_type": "markdown",
   "metadata": {},
   "source": [
    "When we examine several words indicative of deep learning research such as `deep`, `adversarial` and `convolutional` we see what appears to be exponential growth from around 2012."
   ]
  },
  {
   "cell_type": "code",
   "execution_count": 9,
   "metadata": {},
   "outputs": [
    {
     "data": {
      "image/png": "[encoded data removed]",
      "text/plain": [
       "<matplotlib.figure.Figure at 0x10dc08710>"
      ]
     },
     "metadata": {},
     "output_type": "display_data"
    }
   ],
   "source": [
    "counts = {}\n",
    "for year, group in data.groupby('year'):\n",
    "    counts[year] = {\n",
    "        'freq': sum(group['is_deep'] | group['is_adversarial'] | group['is_convolutional']),\n",
    "        'total': len(group)\n",
    "    }\n",
    "\n",
    "hist = []\n",
    "years = sorted(counts.keys())\n",
    "for year in years:\n",
    "    hist.append(100 * counts[year]['freq'] / counts[year]['total'])\n",
    "    \n",
    "plt.bar(years, hist)\n",
    "plt.xlabel('year')\n",
    "plt.title('Percentage of titles containing the \"deep\",\\n\"adversarial\" or \"convolutional\"  for each year')\n",
    "plt.show()"
   ]
  },
  {
   "cell_type": "markdown",
   "metadata": {},
   "source": [
    "As a side note observe that the terms such as `artificial_intelligence` or `ai` are not commonly used in titles.\n",
    "138 out of 41000 titles contain one of these terms (fewer than 0.5%)"
   ]
  },
  {
   "cell_type": "code",
   "execution_count": 15,
   "metadata": {},
   "outputs": [
    {
     "data": {
      "text/plain": [
       "(138, 43244)"
      ]
     },
     "execution_count": 15,
     "metadata": {},
     "output_type": "execute_result"
    }
   ],
   "source": [
    "len(data[data['is_artificial_intelligence'] | data['is_ai']]), len(data)"
   ]
  },
  {
   "cell_type": "markdown",
   "metadata": {},
   "source": [
    "## Which words have changed?\n",
    "\n",
    "Next we examine which words have seen the biggest increase or decreate in usage pre and post 2012"
   ]
  },
  {
   "cell_type": "code",
   "execution_count": 11,
   "metadata": {
    "collapsed": true
   },
   "outputs": [],
   "source": [
    "base_cv = CountVectorizer(analyzer='word', stop_words='english', ngram_range=[1, 2])\n",
    "base_cv = base_cv.fit(data['title'])\n",
    "\n",
    "cv = CountVectorizer(analyzer='word', stop_words='english', ngram_range=[1,2], vocabulary=base_cv.vocabulary_.keys())\n",
    "arr = cv.fit_transform(data[data['year'] < 2012]['title'])\n",
    "old_counts = np.array(np.sum(arr, axis=0)).flatten() / arr.shape[0]\n",
    "\n",
    "cv = CountVectorizer(analyzer='word', stop_words='english', ngram_range=[1, 2], vocabulary=base_cv.vocabulary_.keys())\n",
    "arr = cv.fit_transform(data[data['year'] > 2012]['title'])\n",
    "new_counts = np.array(np.sum(arr, axis=0)).flatten()  / arr.shape[0]"
   ]
  },
  {
   "cell_type": "code",
   "execution_count": 12,
   "metadata": {
    "collapsed": true
   },
   "outputs": [],
   "source": [
    "diff = 100 * (new_counts - old_counts)\n",
    "keys = list(base_cv.vocabulary_.keys())\n",
    "arg_diff = np.argsort(diff)"
   ]
  },
  {
   "cell_type": "markdown",
   "metadata": {},
   "source": [
    "### Pre - 2012"
   ]
  },
  {
   "cell_type": "code",
   "execution_count": 13,
   "metadata": {},
   "outputs": [
    {
     "data": {
      "text/html": [
       "<div>\n",
       "<style>\n",
       "    .dataframe thead tr:only-child th {\n",
       "        text-align: right;\n",
       "    }\n",
       "\n",
       "    .dataframe thead th {\n",
       "        text-align: left;\n",
       "    }\n",
       "\n",
       "    .dataframe tbody tr th {\n",
       "        vertical-align: top;\n",
       "    }\n",
       "</style>\n",
       "<table border=\"1\" class=\"dataframe\">\n",
       "  <thead>\n",
       "    <tr style=\"text-align: right;\">\n",
       "      <th></th>\n",
       "      <th>word</th>\n",
       "      <th>old freq (%)</th>\n",
       "      <th>new freq (%)</th>\n",
       "      <th>ratio</th>\n",
       "    </tr>\n",
       "  </thead>\n",
       "  <tbody>\n",
       "    <tr>\n",
       "      <th>0</th>\n",
       "      <td>logic</td>\n",
       "      <td>3.200746</td>\n",
       "      <td>0.809009</td>\n",
       "      <td>0.252756</td>\n",
       "    </tr>\n",
       "    <tr>\n",
       "      <th>1</th>\n",
       "      <td>systems</td>\n",
       "      <td>3.060907</td>\n",
       "      <td>1.478738</td>\n",
       "      <td>0.483104</td>\n",
       "    </tr>\n",
       "    <tr>\n",
       "      <th>2</th>\n",
       "      <td>programming</td>\n",
       "      <td>2.284027</td>\n",
       "      <td>0.820862</td>\n",
       "      <td>0.359393</td>\n",
       "    </tr>\n",
       "    <tr>\n",
       "      <th>3</th>\n",
       "      <td>algorithm</td>\n",
       "      <td>4.195152</td>\n",
       "      <td>2.735220</td>\n",
       "      <td>0.651995</td>\n",
       "    </tr>\n",
       "    <tr>\n",
       "      <th>4</th>\n",
       "      <td>information</td>\n",
       "      <td>3.076445</td>\n",
       "      <td>1.686176</td>\n",
       "      <td>0.548092</td>\n",
       "    </tr>\n",
       "    <tr>\n",
       "      <th>5</th>\n",
       "      <td>constraint</td>\n",
       "      <td>1.755749</td>\n",
       "      <td>0.435620</td>\n",
       "      <td>0.248111</td>\n",
       "    </tr>\n",
       "    <tr>\n",
       "      <th>6</th>\n",
       "      <td>algorithms</td>\n",
       "      <td>3.091983</td>\n",
       "      <td>1.834346</td>\n",
       "      <td>0.593259</td>\n",
       "    </tr>\n",
       "    <tr>\n",
       "      <th>7</th>\n",
       "      <td>theory</td>\n",
       "      <td>2.066501</td>\n",
       "      <td>0.811972</td>\n",
       "      <td>0.392921</td>\n",
       "    </tr>\n",
       "    <tr>\n",
       "      <th>8</th>\n",
       "      <td>language</td>\n",
       "      <td>3.262896</td>\n",
       "      <td>2.142540</td>\n",
       "      <td>0.656637</td>\n",
       "    </tr>\n",
       "    <tr>\n",
       "      <th>9</th>\n",
       "      <td>complexity</td>\n",
       "      <td>1.709136</td>\n",
       "      <td>0.663802</td>\n",
       "      <td>0.388385</td>\n",
       "    </tr>\n",
       "  </tbody>\n",
       "</table>\n",
       "</div>"
      ],
      "text/plain": [
       "          word  old freq (%)  new freq (%)     ratio\n",
       "0        logic      3.200746      0.809009  0.252756\n",
       "1      systems      3.060907      1.478738  0.483104\n",
       "2  programming      2.284027      0.820862  0.359393\n",
       "3    algorithm      4.195152      2.735220  0.651995\n",
       "4  information      3.076445      1.686176  0.548092\n",
       "5   constraint      1.755749      0.435620  0.248111\n",
       "6   algorithms      3.091983      1.834346  0.593259\n",
       "7       theory      2.066501      0.811972  0.392921\n",
       "8     language      3.262896      2.142540  0.656637\n",
       "9   complexity      1.709136      0.663802  0.388385"
      ]
     },
     "execution_count": 13,
     "metadata": {},
     "output_type": "execute_result"
    }
   ],
   "source": [
    "pd.DataFrame(\n",
    "    [(keys[i], 100*old_counts[i], 100*new_counts[i], new_counts[i]/old_counts[i]) for i in arg_diff[:10]], \n",
    "    columns = ['word', 'old freq (%)', 'new freq (%)', 'ratio']\n",
    ")"
   ]
  },
  {
   "cell_type": "markdown",
   "metadata": {},
   "source": [
    "### Post - 2012"
   ]
  },
  {
   "cell_type": "code",
   "execution_count": 14,
   "metadata": {},
   "outputs": [
    {
     "name": "stderr",
     "output_type": "stream",
     "text": [
      "/Users/dstaff/anaconda3/lib/python3.6/site-packages/ipykernel_launcher.py:2: RuntimeWarning: divide by zero encountered in double_scalars\n",
      "  \n"
     ]
    },
    {
     "data": {
      "text/html": [
       "<div>\n",
       "<style>\n",
       "    .dataframe thead tr:only-child th {\n",
       "        text-align: right;\n",
       "    }\n",
       "\n",
       "    .dataframe thead th {\n",
       "        text-align: left;\n",
       "    }\n",
       "\n",
       "    .dataframe tbody tr th {\n",
       "        vertical-align: top;\n",
       "    }\n",
       "</style>\n",
       "<table border=\"1\" class=\"dataframe\">\n",
       "  <thead>\n",
       "    <tr style=\"text-align: right;\">\n",
       "      <th></th>\n",
       "      <th>word</th>\n",
       "      <th>old freq (%)</th>\n",
       "      <th>new freq (%)</th>\n",
       "      <th>ratio</th>\n",
       "    </tr>\n",
       "  </thead>\n",
       "  <tbody>\n",
       "    <tr>\n",
       "      <th>0</th>\n",
       "      <td>deep learning</td>\n",
       "      <td>0.000000</td>\n",
       "      <td>2.169210</td>\n",
       "      <td>inf</td>\n",
       "    </tr>\n",
       "    <tr>\n",
       "      <th>1</th>\n",
       "      <td>detection</td>\n",
       "      <td>2.377253</td>\n",
       "      <td>4.637724</td>\n",
       "      <td>1.950875</td>\n",
       "    </tr>\n",
       "    <tr>\n",
       "      <th>2</th>\n",
       "      <td>convolutional neural</td>\n",
       "      <td>0.000000</td>\n",
       "      <td>2.290710</td>\n",
       "      <td>inf</td>\n",
       "    </tr>\n",
       "    <tr>\n",
       "      <th>3</th>\n",
       "      <td>image</td>\n",
       "      <td>2.843381</td>\n",
       "      <td>5.746036</td>\n",
       "      <td>2.020846</td>\n",
       "    </tr>\n",
       "    <tr>\n",
       "      <th>4</th>\n",
       "      <td>neural networks</td>\n",
       "      <td>1.258546</td>\n",
       "      <td>4.868869</td>\n",
       "      <td>3.868647</td>\n",
       "    </tr>\n",
       "    <tr>\n",
       "      <th>5</th>\n",
       "      <td>convolutional</td>\n",
       "      <td>0.015538</td>\n",
       "      <td>3.834642</td>\n",
       "      <td>246.797570</td>\n",
       "    </tr>\n",
       "    <tr>\n",
       "      <th>6</th>\n",
       "      <td>neural</td>\n",
       "      <td>3.107520</td>\n",
       "      <td>9.313972</td>\n",
       "      <td>2.997236</td>\n",
       "    </tr>\n",
       "    <tr>\n",
       "      <th>7</th>\n",
       "      <td>networks</td>\n",
       "      <td>3.449347</td>\n",
       "      <td>9.767373</td>\n",
       "      <td>2.831658</td>\n",
       "    </tr>\n",
       "    <tr>\n",
       "      <th>8</th>\n",
       "      <td>learning</td>\n",
       "      <td>9.571162</td>\n",
       "      <td>17.632242</td>\n",
       "      <td>1.842226</td>\n",
       "    </tr>\n",
       "    <tr>\n",
       "      <th>9</th>\n",
       "      <td>deep</td>\n",
       "      <td>0.139838</td>\n",
       "      <td>8.946511</td>\n",
       "      <td>63.977491</td>\n",
       "    </tr>\n",
       "  </tbody>\n",
       "</table>\n",
       "</div>"
      ],
      "text/plain": [
       "                   word  old freq (%)  new freq (%)       ratio\n",
       "0         deep learning      0.000000      2.169210         inf\n",
       "1             detection      2.377253      4.637724    1.950875\n",
       "2  convolutional neural      0.000000      2.290710         inf\n",
       "3                 image      2.843381      5.746036    2.020846\n",
       "4       neural networks      1.258546      4.868869    3.868647\n",
       "5         convolutional      0.015538      3.834642  246.797570\n",
       "6                neural      3.107520      9.313972    2.997236\n",
       "7              networks      3.449347      9.767373    2.831658\n",
       "8              learning      9.571162     17.632242    1.842226\n",
       "9                  deep      0.139838      8.946511   63.977491"
      ]
     },
     "execution_count": 14,
     "metadata": {},
     "output_type": "execute_result"
    }
   ],
   "source": [
    "pd.DataFrame(\n",
    "    [(keys[i], 100*old_counts[i], 100*new_counts[i], new_counts[i]/old_counts[i]) for i in arg_diff[-10:]],\n",
    "    columns = ['word', 'old freq (%)', 'new freq (%)', 'ratio']\n",
    ")"
   ]
  },
  {
   "cell_type": "markdown",
   "metadata": {},
   "source": [
    "Words such as:\n",
    "* logic\n",
    "* programming\n",
    "* algorithms\n",
    "* evolutionary\n",
    "\n",
    "used to appear in between 1% and 5% or titles.\n",
    "Their usage has generally been cut by a half or a third.\n",
    "\n",
    "Words (and word pairs) such as:\n",
    "* deep learning\n",
    "* deep\n",
    "* convolutional\n",
    "\n",
    "have increased dramatically. In some cases they appear over 100 times more often than after 2012 compared to before 2012."
   ]
  },
  {
   "cell_type": "markdown",
   "metadata": {},
   "source": [
    "## Examining popular media\n",
    "\n",
    "Let's compare the trends from arxiv to how the word AI is trending in guardian news articles. \n",
    "The trend is remarkably similar to the deep learning trend in accademic publications."
   ]
  },
  {
   "cell_type": "code",
   "execution_count": 22,
   "metadata": {},
   "outputs": [
    {
     "data": {
      "image/png": "[encoded data removed]",
      "text/plain": [
       "<matplotlib.figure.Figure at 0x10dc5b3c8>"
      ]
     },
     "metadata": {},
     "output_type": "display_data"
    }
   ],
   "source": [
    "guardian_data = pd.DataFrame([  \n",
    "   {'ai': 1, 'year': 2010, 'total': 7201},\n",
    "   {'ai':2, 'year': 2011, 'total': 8117},\n",
    "   {'ai':1, 'year': 2012, 'total': 8376},\n",
    "   {'ai':3, 'year': 2013, 'total': 9874},\n",
    "   {'ai':7, 'year': 2014, 'total': 10569},\n",
    "   {'ai':16, 'year': 2015, 'total': 9535},\n",
    "   {'ai':51, 'year': 2016, 'total': 9366},\n",
    "   {'ai':60, 'year': 2017, 'total': 7272},\n",
    "])\n",
    "\n",
    "plt.bar(guardian_data['year'], 100 * guardian_data['ai'] / guardian_data['total'])\n",
    "plt.xlabel('year')\n",
    "plt.title('Percentage of guardian technology \\n headlines containing AI')\n",
    "plt.show()"
   ]
  },
  {
   "cell_type": "markdown",
   "metadata": {},
   "source": [
    "# Conclusions\n",
    "\n",
    "The computer science AI landscape has transformed since 2012.\n",
    "Pre 2012 there were a braod range of topics such as `fuzzy logic`, `logic programming`, `evolutionary algorithms`.\n",
    "There each had a presence in 1%-5% of publications.\n",
    "Frequently domain specific algorithms were published that solve niche problems such as face detection or optimal searches.\n",
    "\n",
    "Post 2012 the landscape has become much more monolithic with one topic, deep learning, dominating the landscape.\n",
    "Deep learning has come from obscurity to ubiquity, the subject of approximately one in five publications whilst still growings in its share.\n",
    "Following the incredibly rapid trends demonstated above deep learning is on course to saturate AI research in the next few years, although this is far from a certainty.\n",
    "\n",
    "The data from the guardian strongly suggests that the increase in press overage of AI is being by breakthroughs in deep learning.\n",
    "\n",
    "When reading about AI revolutions in the press we need to remember in reality it is a deep learning revolution.\n",
    "Deep learning is not a silver bullet, while it will continue to make huge strides in some areas (very high dimensional proplems with huge datasets) it is unliekly to have any impact in others.\n",
    "\n",
    "Deep leaning is applied to large datasets for high dimesnional problems such as image recognition, text to speach and translation. This is reflected in advances in products like Google Translate, Siri, Alexa and \n",
    "\n",
    "If we do not unsterstand the strengths and weeknesses of deep learning and communicate them to manage expectations we risk a damaging gap between expectation and reality, between researchers and technologists which could be harmful for future progress. "
   ]
  }
 ],
 "metadata": {
  "kernelspec": {
   "display_name": "Python 3",
   "language": "python",
   "name": "python3"
  },
  "language_info": {
   "codemirror_mode": {
    "name": "ipython",
    "version": 3
   },
   "file_extension": ".py",
   "mimetype": "text/x-python",
   "name": "python",
   "nbconvert_exporter": "python",
   "pygments_lexer": "ipython3",
   "version": "3.6.3"
  }
 },
 "nbformat": 4,
 "nbformat_minor": 2
}

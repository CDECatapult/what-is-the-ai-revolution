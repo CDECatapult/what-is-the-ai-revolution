{
 "cells": [
  {
   "cell_type": "code",
   "execution_count": 1,
   "metadata": {
    "collapsed": true
   },
   "outputs": [],
   "source": [
    "import pandas as pd\n",
    "import matplotlib.pyplot as plt\n",
    "from sklearn.feature_extraction.text import CountVectorizer\n",
    "import numpy as np\n",
    "from collections import Counter\n",
    "\n",
    "%matplotlib inline"
   ]
  },
  {
   "cell_type": "markdown",
   "metadata": {},
   "source": [
    "# Why the 'AI revolution' is really a deep learning revolution\n",
    "\n",
    "## Introduction\n",
    "\n",
    "We often hear that there's been an explosion in AI research, that AI is advancing a breakneck speed.\n",
    "However, when we look at computer science publications we see no evidence of such changes in the AI research landscape.\n",
    "Infact many traditional fields such as logic programming, evolutionary algorithms, bayesian statistics are on the decline.\n",
    "What we do see is a unprecidented explosion of publications in the field of deep learning.\n",
    "Since 2012 deep learning has gone from an unused term to a phrase that dominates the landscape.\n",
    "We estimate that more than one fith of AI or similar publications are now part of a deep learning gold rush.\n",
    "\n",
    "## Dataset\n",
    "\n",
    "The study uses the Kaggle Arxiv dataset. \n",
    "A collection of metadata about 41000 publications since 1995 tagged with:\n",
    "* Machine Learning\n",
    "* Computation and Language\n",
    "* Artificial Inteligence\n",
    "* Computer Vision\n",
    "* Neural and Evolutionary Computing\n",
    "\n",
    "IMPORTANT NOTE: We need to reproduce this data ourselves in order to completely trust it. Volunteers are welcome.\n",
    "\n",
    "You can download the dataset [here](https://www.kaggle.com/neelshah18/arxivdataset/activity)."
   ]
  },
  {
   "cell_type": "code",
   "execution_count": 95,
   "metadata": {},
   "outputs": [
    {
     "data": {
      "text/html": [
       "<div>\n",
       "<style>\n",
       "    .dataframe thead tr:only-child th {\n",
       "        text-align: right;\n",
       "    }\n",
       "\n",
       "    .dataframe thead th {\n",
       "        text-align: left;\n",
       "    }\n",
       "\n",
       "    .dataframe tbody tr th {\n",
       "        vertical-align: top;\n",
       "    }\n",
       "</style>\n",
       "<table border=\"1\" class=\"dataframe\">\n",
       "  <thead>\n",
       "    <tr style=\"text-align: right;\">\n",
       "      <th></th>\n",
       "      <th>abstract</th>\n",
       "      <th>authors</th>\n",
       "      <th>catagories</th>\n",
       "      <th>comments</th>\n",
       "      <th>created</th>\n",
       "      <th>id</th>\n",
       "      <th>journal-ref</th>\n",
       "      <th>license</th>\n",
       "      <th>title</th>\n",
       "      <th>updated</th>\n",
       "      <th>year</th>\n",
       "    </tr>\n",
       "  </thead>\n",
       "  <tbody>\n",
       "    <tr>\n",
       "      <th>2</th>\n",
       "      <td>The intelligent acoustic emission locator is...</td>\n",
       "      <td>[{'keyname': 'Kosel', 'forenames': ['T.']}, {'...</td>\n",
       "      <td>[cs.NE, cs.AI]</td>\n",
       "      <td>5 pages, 5 eps figures, uses IEEEtran.cls</td>\n",
       "      <td>2007-04-01</td>\n",
       "      <td>0704.0047</td>\n",
       "      <td>None</td>\n",
       "      <td>None</td>\n",
       "      <td>Intelligent location of simultaneously active ...</td>\n",
       "      <td>None</td>\n",
       "      <td>2007</td>\n",
       "    </tr>\n",
       "    <tr>\n",
       "      <th>3</th>\n",
       "      <td>Part I describes an intelligent acoustic emi...</td>\n",
       "      <td>[{'keyname': 'Kosel', 'forenames': ['T.']}, {'...</td>\n",
       "      <td>[cs.NE, cs.AI]</td>\n",
       "      <td>5 pages, 7 eps figures, uses IEEEtran.cls</td>\n",
       "      <td>2007-04-01</td>\n",
       "      <td>0704.0050</td>\n",
       "      <td>None</td>\n",
       "      <td>None</td>\n",
       "      <td>Intelligent location of simultaneously active ...</td>\n",
       "      <td>None</td>\n",
       "      <td>2007</td>\n",
       "    </tr>\n",
       "    <tr>\n",
       "      <th>14</th>\n",
       "      <td>This paper discusses the benefits of describ...</td>\n",
       "      <td>[{'keyname': 'Gershenson', 'forenames': ['Carl...</td>\n",
       "      <td>[cs.IT, cs.AI, math.IT, q-bio.PE]</td>\n",
       "      <td>16 pages. Extended version, three more laws of...</td>\n",
       "      <td>2007-04-02</td>\n",
       "      <td>0704.0304</td>\n",
       "      <td>Minai, A., Braha, D., and Bar-Yam, Y., eds. Un...</td>\n",
       "      <td>http://arxiv.org/licenses/nonexclusive-distrib...</td>\n",
       "      <td>The World as Evolving Information</td>\n",
       "      <td>2010-10-13</td>\n",
       "      <td>2007</td>\n",
       "    </tr>\n",
       "    <tr>\n",
       "      <th>38</th>\n",
       "      <td>Advances in semiconductor technology are con...</td>\n",
       "      <td>[{'keyname': 'Abubakr', 'forenames': ['Mohd']}...</td>\n",
       "      <td>[cs.NE, cs.AI]</td>\n",
       "      <td>4 pages, 2 figures. Submitted to SASO 2007</td>\n",
       "      <td>2007-04-07</td>\n",
       "      <td>0704.0985</td>\n",
       "      <td>None</td>\n",
       "      <td>None</td>\n",
       "      <td>Architecture for Pseudo Acausal Evolvable Embe...</td>\n",
       "      <td>None</td>\n",
       "      <td>2007</td>\n",
       "    </tr>\n",
       "    <tr>\n",
       "      <th>40</th>\n",
       "      <td>Ordinal regression is an important type of l...</td>\n",
       "      <td>[{'keyname': 'Cheng', 'forenames': ['Jianlin']}]</td>\n",
       "      <td>[cs.LG, cs.AI, cs.NE]</td>\n",
       "      <td>8 pages</td>\n",
       "      <td>2007-04-08</td>\n",
       "      <td>0704.1028</td>\n",
       "      <td>None</td>\n",
       "      <td>None</td>\n",
       "      <td>A neural network approach to ordinal regression</td>\n",
       "      <td>None</td>\n",
       "      <td>2007</td>\n",
       "    </tr>\n",
       "  </tbody>\n",
       "</table>\n",
       "</div>"
      ],
      "text/plain": [
       "                                             abstract  \\\n",
       "2     The intelligent acoustic emission locator is...   \n",
       "3     Part I describes an intelligent acoustic emi...   \n",
       "14    This paper discusses the benefits of describ...   \n",
       "38    Advances in semiconductor technology are con...   \n",
       "40    Ordinal regression is an important type of l...   \n",
       "\n",
       "                                              authors  \\\n",
       "2   [{'keyname': 'Kosel', 'forenames': ['T.']}, {'...   \n",
       "3   [{'keyname': 'Kosel', 'forenames': ['T.']}, {'...   \n",
       "14  [{'keyname': 'Gershenson', 'forenames': ['Carl...   \n",
       "38  [{'keyname': 'Abubakr', 'forenames': ['Mohd']}...   \n",
       "40   [{'keyname': 'Cheng', 'forenames': ['Jianlin']}]   \n",
       "\n",
       "                           catagories  \\\n",
       "2                      [cs.NE, cs.AI]   \n",
       "3                      [cs.NE, cs.AI]   \n",
       "14  [cs.IT, cs.AI, math.IT, q-bio.PE]   \n",
       "38                     [cs.NE, cs.AI]   \n",
       "40              [cs.LG, cs.AI, cs.NE]   \n",
       "\n",
       "                                             comments     created         id  \\\n",
       "2           5 pages, 5 eps figures, uses IEEEtran.cls  2007-04-01  0704.0047   \n",
       "3           5 pages, 7 eps figures, uses IEEEtran.cls  2007-04-01  0704.0050   \n",
       "14  16 pages. Extended version, three more laws of...  2007-04-02  0704.0304   \n",
       "38         4 pages, 2 figures. Submitted to SASO 2007  2007-04-07  0704.0985   \n",
       "40                                            8 pages  2007-04-08  0704.1028   \n",
       "\n",
       "                                          journal-ref  \\\n",
       "2                                                None   \n",
       "3                                                None   \n",
       "14  Minai, A., Braha, D., and Bar-Yam, Y., eds. Un...   \n",
       "38                                               None   \n",
       "40                                               None   \n",
       "\n",
       "                                              license  \\\n",
       "2                                                None   \n",
       "3                                                None   \n",
       "14  http://arxiv.org/licenses/nonexclusive-distrib...   \n",
       "38                                               None   \n",
       "40                                               None   \n",
       "\n",
       "                                                title     updated  year  \n",
       "2   Intelligent location of simultaneously active ...        None  2007  \n",
       "3   Intelligent location of simultaneously active ...        None  2007  \n",
       "14                  The World as Evolving Information  2010-10-13  2007  \n",
       "38  Architecture for Pseudo Acausal Evolvable Embe...        None  2007  \n",
       "40    A neural network approach to ordinal regression        None  2007  "
      ]
     },
     "execution_count": 95,
     "metadata": {},
     "output_type": "execute_result"
    }
   ],
   "source": [
    "data = pd.read_json('./data.jsonlines', lines=True)\n",
    "data = data[data.catagories.apply(lambda records: \"cs.AI\" in records)]\n",
    "data['year'] = data['created'].str.split('-').apply(lambda x: int(x[0]))\n",
    "data.head()"
   ]
  },
  {
   "cell_type": "code",
   "execution_count": 96,
   "metadata": {},
   "outputs": [
    {
     "data": {
      "text/plain": [
       "[('cs.CV', 13902),\n",
       " ('cs.LG', 13735),\n",
       " ('cs.AI', 10481),\n",
       " ('cs.CL', 6417),\n",
       " ('cs.NE', 3819)]"
      ]
     },
     "execution_count": 96,
     "metadata": {},
     "output_type": "execute_result"
    }
   ],
   "source": [
    "# examine the most popular tags\n",
    "tag_counts = Counter(row['term'] for tag in tags for row in tag if row['term'][:2] == 'cs')\n",
    "sorted(tag_counts.items(), key = lambda x: x[1], reverse=True)[:5]"
   ]
  },
  {
   "cell_type": "markdown",
   "metadata": {},
   "source": [
    "## Preprocessing\n",
    "\n",
    "Create some columns in the dataset to mark the presence of some key words."
   ]
  },
  {
   "cell_type": "code",
   "execution_count": 97,
   "metadata": {
    "collapsed": true
   },
   "outputs": [],
   "source": [
    "data['is_deep'] = data['title'].str.contains('deep', case=False)\n",
    "data['is_adversarial'] = data['title'].str.contains('adversarial', case=False)\n",
    "data['is_reinforcement'] = data['title'].str.contains('reinforcement', case=False)\n",
    "data['is_convolutional'] = data['title'].str.contains('convolutional', case=False)\n",
    "# data['is_bayesian'] = data['title'].str.contains('bayesian', case=False)\n",
    "data['is_ai'] = data['title'].str.contains(' ai ', case=False)\n",
    "data['is_artificial_intelligence'] = data['title'].str.contains('artificial intelligence', case=False)\n",
    "# data['is_bandit_algorithm'] = data['title'].str.contains('bandit algorithm', case=False)\n",
    "data['is_logic'] = data['title'].str.contains('logic', case=False)\n",
    "# data['is_algorithm'] = data['title'].str.contains('algorithm', case=False)\n",
    "data['is_evolutionary'] = data['title'].str.contains('evolutionary', case=False)\n",
    "# data['is_fuzzy_logic'] = data['title'].str.contains('fuzzy logic', case=False)"
   ]
  },
  {
   "cell_type": "markdown",
   "metadata": {},
   "source": [
    "## Results\n",
    "\n",
    "### Word counts, in titles, per year\n",
    "\n",
    "Fuzzy logic and logical programming were staples of AI research through the late ninties and early 21st century.\n",
    "Below we can see a steady rate of publications containing the word `logic` in the title. \n",
    "There has been a gradual decline since 2012."
   ]
  },
  {
   "cell_type": "code",
   "execution_count": 98,
   "metadata": {},
   "outputs": [
    {
     "data": {
      "image/png": "[encoded data removed]",
      "text/plain": [
       "<matplotlib.figure.Figure at 0x1a36ef6128>"
      ]
     },
     "metadata": {},
     "output_type": "display_data"
    }
   ],
   "source": [
    "counts = {}\n",
    "for year, group in data.groupby('year'):\n",
    "    counts[year] = {'freq': sum(group['is_logic'] > 0), 'total': len(group)}\n",
    "    \n",
    "hist = []\n",
    "years = sorted(counts.keys())    \n",
    "for year in years:\n",
    "    hist.append(100 * counts[year]['freq'] / counts[year]['total'])\n",
    "\n",
    "plt.xlabel('year')\n",
    "plt.title('Percentage of titles containing \"logic\" for each year')\n",
    "plt.bar(years, hist)\n",
    "plt.show()"
   ]
  },
  {
   "cell_type": "markdown",
   "metadata": {},
   "source": [
    "Similarly evolutionary algorithms peaked in 2005 with a gradual rise and fall either side."
   ]
  },
  {
   "cell_type": "code",
   "execution_count": 99,
   "metadata": {},
   "outputs": [
    {
     "data": {
      "image/png": "[encoded data removed]",
      "text/plain": [
       "<matplotlib.figure.Figure at 0x1a3dcc3dd8>"
      ]
     },
     "metadata": {},
     "output_type": "display_data"
    }
   ],
   "source": [
    "counts = {}\n",
    "for year, group in data.groupby('year'):\n",
    "    counts[year] = {'freq': sum(group['is_evolutionary'] > 0), 'total': len(group)}\n",
    "    \n",
    "hist = []\n",
    "years = sorted(counts.keys())    \n",
    "for year in years:\n",
    "    hist.append(100 * counts[year]['freq'] / counts[year]['total'])\n",
    "\n",
    "plt.xlabel('year')\n",
    "plt.title('Percentage of titles containing \"evolutionary\" for each year')\n",
    "plt.bar(years, hist)\n",
    "plt.show()"
   ]
  },
  {
   "cell_type": "markdown",
   "metadata": {},
   "source": [
    "In stark contrast with the previous two examples titles containing the word deep have exploded."
   ]
  },
  {
   "cell_type": "code",
   "execution_count": 100,
   "metadata": {},
   "outputs": [
    {
     "data": {
      "image/png": "[encoded data removed]",
      "text/plain": [
       "<matplotlib.figure.Figure at 0x1a387d1a20>"
      ]
     },
     "metadata": {},
     "output_type": "display_data"
    }
   ],
   "source": [
    "counts = {}\n",
    "for year, group in data.groupby('year'):\n",
    "    counts[year] = {\n",
    "        'freq': sum(group['is_deep']),\n",
    "        'total': len(group)\n",
    "    }\n",
    "\n",
    "hist = []\n",
    "years = sorted(counts.keys())\n",
    "for year in years:\n",
    "    hist.append(100 * counts[year]['freq'] / counts[year]['total'])\n",
    "\n",
    "plt.xlabel('year')\n",
    "plt.title('Percentage of titles containing the \"deep\" for each year')\n",
    "\n",
    "plt.bar(years, hist)\n",
    "plt.show()"
   ]
  },
  {
   "cell_type": "markdown",
   "metadata": {},
   "source": [
    "When we examine several words indicative of deep learning research such as `deep`, `adversarial` and `convolutional` we see what appears to be exponential growth from around 2012."
   ]
  },
  {
   "cell_type": "code",
   "execution_count": 101,
   "metadata": {},
   "outputs": [
    {
     "data": {
      "image/png": "[encoded data removed]",
      "text/plain": [
       "<matplotlib.figure.Figure at 0x1a13ad05f8>"
      ]
     },
     "metadata": {},
     "output_type": "display_data"
    }
   ],
   "source": [
    "counts = {}\n",
    "for year, group in data.groupby('year'):\n",
    "    counts[year] = {\n",
    "        'freq': sum(group['is_deep'] | group['is_adversarial'] | group['is_convolutional']),\n",
    "        'total': len(group)\n",
    "    }\n",
    "\n",
    "hist = []\n",
    "years = sorted(counts.keys())\n",
    "for year in years:\n",
    "    hist.append(100 * counts[year]['freq'] / counts[year]['total'])\n",
    "    \n",
    "plt.bar(years, hist)\n",
    "plt.xlabel('year')\n",
    "plt.title('Percentage of titles containing the \"deep\",\\n\"adversarial\" or \"convolutional\"  for each year')\n",
    "plt.show()"
   ]
  },
  {
   "cell_type": "markdown",
   "metadata": {},
   "source": [
    "As a side note observe that the terms such as `artificial_intelligence` or `ai` are not commonly used in titles.\n",
    "139 out of 41000 titles contain one of these terms (fewer than 0.5%)"
   ]
  },
  {
   "cell_type": "code",
   "execution_count": 102,
   "metadata": {},
   "outputs": [
    {
     "data": {
      "text/plain": [
       "(133, 12218)"
      ]
     },
     "execution_count": 102,
     "metadata": {},
     "output_type": "execute_result"
    }
   ],
   "source": [
    "len(data[data['is_artificial_intelligence'] | data['is_ai']]), len(data)"
   ]
  },
  {
   "cell_type": "markdown",
   "metadata": {},
   "source": [
    "## Which words have changed?\n",
    "\n",
    "Next we examine which words have seen the biggest increase or decreate in usage pre and post 2012"
   ]
  },
  {
   "cell_type": "code",
   "execution_count": 103,
   "metadata": {},
   "outputs": [],
   "source": [
    "base_cv = CountVectorizer(analyzer='word', stop_words='english', ngram_range=[1, 2])\n",
    "base_cv = base_cv.fit(data['title'])\n",
    "\n",
    "cv = CountVectorizer(analyzer='word', stop_words='english', ngram_range=[1,2], vocabulary=base_cv.vocabulary_.keys())\n",
    "arr = cv.fit_transform(data[data['year'] < 2012]['title'])\n",
    "old_counts = np.array(np.sum(arr, axis=0)).flatten() / arr.shape[0]\n",
    "\n",
    "cv = CountVectorizer(analyzer='word', stop_words='english', ngram_range=[1, 2], vocabulary=base_cv.vocabulary_.keys())\n",
    "arr = cv.fit_transform(data[data['year'] > 2012]['title'])\n",
    "new_counts = np.array(np.sum(arr, axis=0)).flatten()  / arr.shape[0]"
   ]
  },
  {
   "cell_type": "code",
   "execution_count": 104,
   "metadata": {},
   "outputs": [],
   "source": [
    "diff = 100 * (new_counts - old_counts)\n",
    "keys = list(base_cv.vocabulary_.keys())\n",
    "arg_diff = np.argsort(diff)"
   ]
  },
  {
   "cell_type": "markdown",
   "metadata": {},
   "source": [
    "### Pre - 2012"
   ]
  },
  {
   "cell_type": "code",
   "execution_count": 105,
   "metadata": {},
   "outputs": [
    {
     "data": {
      "text/html": [
       "<div>\n",
       "<style>\n",
       "    .dataframe thead tr:only-child th {\n",
       "        text-align: right;\n",
       "    }\n",
       "\n",
       "    .dataframe thead th {\n",
       "        text-align: left;\n",
       "    }\n",
       "\n",
       "    .dataframe tbody tr th {\n",
       "        vertical-align: top;\n",
       "    }\n",
       "</style>\n",
       "<table border=\"1\" class=\"dataframe\">\n",
       "  <thead>\n",
       "    <tr style=\"text-align: right;\">\n",
       "      <th></th>\n",
       "      <th>word</th>\n",
       "      <th>old freq (%)</th>\n",
       "      <th>new freq (%)</th>\n",
       "      <th>ratio</th>\n",
       "    </tr>\n",
       "  </thead>\n",
       "  <tbody>\n",
       "    <tr>\n",
       "      <th>0</th>\n",
       "      <td>logic</td>\n",
       "      <td>6.28125</td>\n",
       "      <td>3.016859</td>\n",
       "      <td>0.480296</td>\n",
       "    </tr>\n",
       "    <tr>\n",
       "      <th>1</th>\n",
       "      <td>constraint</td>\n",
       "      <td>3.21875</td>\n",
       "      <td>1.204208</td>\n",
       "      <td>0.374123</td>\n",
       "    </tr>\n",
       "    <tr>\n",
       "      <th>2</th>\n",
       "      <td>programming</td>\n",
       "      <td>4.12500</td>\n",
       "      <td>2.307010</td>\n",
       "      <td>0.559275</td>\n",
       "    </tr>\n",
       "    <tr>\n",
       "      <th>3</th>\n",
       "      <td>systems</td>\n",
       "      <td>4.40625</td>\n",
       "      <td>2.966155</td>\n",
       "      <td>0.673170</td>\n",
       "    </tr>\n",
       "    <tr>\n",
       "      <th>4</th>\n",
       "      <td>programs</td>\n",
       "      <td>2.34375</td>\n",
       "      <td>0.988718</td>\n",
       "      <td>0.421853</td>\n",
       "    </tr>\n",
       "    <tr>\n",
       "      <th>5</th>\n",
       "      <td>logic programs</td>\n",
       "      <td>1.68750</td>\n",
       "      <td>0.342249</td>\n",
       "      <td>0.202814</td>\n",
       "    </tr>\n",
       "    <tr>\n",
       "      <th>6</th>\n",
       "      <td>algorithms</td>\n",
       "      <td>3.03125</td>\n",
       "      <td>1.812651</td>\n",
       "      <td>0.597988</td>\n",
       "    </tr>\n",
       "    <tr>\n",
       "      <th>7</th>\n",
       "      <td>complexity</td>\n",
       "      <td>2.25000</td>\n",
       "      <td>1.077450</td>\n",
       "      <td>0.478866</td>\n",
       "    </tr>\n",
       "    <tr>\n",
       "      <th>8</th>\n",
       "      <td>logics</td>\n",
       "      <td>1.59375</td>\n",
       "      <td>0.469007</td>\n",
       "      <td>0.294279</td>\n",
       "    </tr>\n",
       "    <tr>\n",
       "      <th>9</th>\n",
       "      <td>information</td>\n",
       "      <td>3.43750</td>\n",
       "      <td>2.332362</td>\n",
       "      <td>0.678505</td>\n",
       "    </tr>\n",
       "  </tbody>\n",
       "</table>\n",
       "</div>"
      ],
      "text/plain": [
       "             word  old freq (%)  new freq (%)     ratio\n",
       "0           logic       6.28125      3.016859  0.480296\n",
       "1      constraint       3.21875      1.204208  0.374123\n",
       "2     programming       4.12500      2.307010  0.559275\n",
       "3         systems       4.40625      2.966155  0.673170\n",
       "4        programs       2.34375      0.988718  0.421853\n",
       "5  logic programs       1.68750      0.342249  0.202814\n",
       "6      algorithms       3.03125      1.812651  0.597988\n",
       "7      complexity       2.25000      1.077450  0.478866\n",
       "8          logics       1.59375      0.469007  0.294279\n",
       "9     information       3.43750      2.332362  0.678505"
      ]
     },
     "execution_count": 105,
     "metadata": {},
     "output_type": "execute_result"
    }
   ],
   "source": [
    "pd.DataFrame(\n",
    "    [(keys[i], 100*old_counts[i], 100*new_counts[i], new_counts[i]/old_counts[i]) for i in arg_diff[:10]], \n",
    "    columns = ['word', 'old freq (%)', 'new freq (%)', 'ratio']\n",
    ")"
   ]
  },
  {
   "cell_type": "markdown",
   "metadata": {},
   "source": [
    "### Post - 2012"
   ]
  },
  {
   "cell_type": "code",
   "execution_count": 106,
   "metadata": {},
   "outputs": [
    {
     "data": {
      "text/html": [
       "<div>\n",
       "<style>\n",
       "    .dataframe thead tr:only-child th {\n",
       "        text-align: right;\n",
       "    }\n",
       "\n",
       "    .dataframe thead th {\n",
       "        text-align: left;\n",
       "    }\n",
       "\n",
       "    .dataframe tbody tr th {\n",
       "        vertical-align: top;\n",
       "    }\n",
       "</style>\n",
       "<table border=\"1\" class=\"dataframe\">\n",
       "  <thead>\n",
       "    <tr style=\"text-align: right;\">\n",
       "      <th></th>\n",
       "      <th>word</th>\n",
       "      <th>old freq (%)</th>\n",
       "      <th>new freq (%)</th>\n",
       "      <th>ratio</th>\n",
       "    </tr>\n",
       "  </thead>\n",
       "  <tbody>\n",
       "    <tr>\n",
       "      <th>0</th>\n",
       "      <td>neural networks</td>\n",
       "      <td>1.03125</td>\n",
       "      <td>2.484472</td>\n",
       "      <td>2.409185</td>\n",
       "    </tr>\n",
       "    <tr>\n",
       "      <th>1</th>\n",
       "      <td>using</td>\n",
       "      <td>6.21875</td>\n",
       "      <td>7.732285</td>\n",
       "      <td>1.243383</td>\n",
       "    </tr>\n",
       "    <tr>\n",
       "      <th>2</th>\n",
       "      <td>probabilistic</td>\n",
       "      <td>1.96875</td>\n",
       "      <td>3.790087</td>\n",
       "      <td>1.925124</td>\n",
       "    </tr>\n",
       "    <tr>\n",
       "      <th>3</th>\n",
       "      <td>bayesian</td>\n",
       "      <td>1.81250</td>\n",
       "      <td>3.688680</td>\n",
       "      <td>2.035134</td>\n",
       "    </tr>\n",
       "    <tr>\n",
       "      <th>4</th>\n",
       "      <td>neural</td>\n",
       "      <td>2.40625</td>\n",
       "      <td>4.956268</td>\n",
       "      <td>2.059748</td>\n",
       "    </tr>\n",
       "    <tr>\n",
       "      <th>5</th>\n",
       "      <td>reinforcement learning</td>\n",
       "      <td>1.03125</td>\n",
       "      <td>3.815439</td>\n",
       "      <td>3.699820</td>\n",
       "    </tr>\n",
       "    <tr>\n",
       "      <th>6</th>\n",
       "      <td>reinforcement</td>\n",
       "      <td>1.09375</td>\n",
       "      <td>3.878819</td>\n",
       "      <td>3.546348</td>\n",
       "    </tr>\n",
       "    <tr>\n",
       "      <th>7</th>\n",
       "      <td>networks</td>\n",
       "      <td>3.43750</td>\n",
       "      <td>8.112562</td>\n",
       "      <td>2.360018</td>\n",
       "    </tr>\n",
       "    <tr>\n",
       "      <th>8</th>\n",
       "      <td>deep</td>\n",
       "      <td>0.15625</td>\n",
       "      <td>5.006972</td>\n",
       "      <td>32.044619</td>\n",
       "    </tr>\n",
       "    <tr>\n",
       "      <th>9</th>\n",
       "      <td>learning</td>\n",
       "      <td>7.68750</td>\n",
       "      <td>15.502599</td>\n",
       "      <td>2.016598</td>\n",
       "    </tr>\n",
       "  </tbody>\n",
       "</table>\n",
       "</div>"
      ],
      "text/plain": [
       "                     word  old freq (%)  new freq (%)      ratio\n",
       "0         neural networks       1.03125      2.484472   2.409185\n",
       "1                   using       6.21875      7.732285   1.243383\n",
       "2           probabilistic       1.96875      3.790087   1.925124\n",
       "3                bayesian       1.81250      3.688680   2.035134\n",
       "4                  neural       2.40625      4.956268   2.059748\n",
       "5  reinforcement learning       1.03125      3.815439   3.699820\n",
       "6           reinforcement       1.09375      3.878819   3.546348\n",
       "7                networks       3.43750      8.112562   2.360018\n",
       "8                    deep       0.15625      5.006972  32.044619\n",
       "9                learning       7.68750     15.502599   2.016598"
      ]
     },
     "execution_count": 106,
     "metadata": {},
     "output_type": "execute_result"
    }
   ],
   "source": [
    "pd.DataFrame(\n",
    "    [(keys[i], 100*old_counts[i], 100*new_counts[i], new_counts[i]/old_counts[i]) for i in arg_diff[-10:]],\n",
    "    columns = ['word', 'old freq (%)', 'new freq (%)', 'ratio']\n",
    ")"
   ]
  },
  {
   "cell_type": "markdown",
   "metadata": {},
   "source": [
    "Words such as:\n",
    "* logic\n",
    "* programming\n",
    "* algorithms\n",
    "* evolutionary\n",
    "\n",
    "used to appear in between 1% and 5% or titles.\n",
    "Their usage has generally been cut by a half or a third.\n",
    "\n",
    "Words (and word pairs) such as:\n",
    "* deep learning\n",
    "* deep\n",
    "* convolutional\n",
    "\n",
    "have increased dramatically. In some cases they appear over 100 times more often than after 2012 compared to before 2012."
   ]
  },
  {
   "cell_type": "markdown",
   "metadata": {},
   "source": [
    "# Conclusions\n",
    "\n",
    "The computer science AI landscape has transformed since 2012.\n",
    "Pre 2012 there were a braod range of topics such as `fuzzy logic`, `logic programming`, `evolutionary algorithms`.\n",
    "There each had a presence in 1%-5% of publications.\n",
    "Frequently domain specific algorithms were published that solve niche problems such as face detection or optimal searches.\n",
    "\n",
    "Post 2012 the landscape has become much more monolithic with one topic, deep learning, dominating the landscape.\n",
    "Deep learning has come from obscurity to ubiquity, the subject of approximately one in five publications whilst still growings in its share.\n",
    "Following the incredibly rapid trends demonstated above deep learning is on course to saturate AI research in the next few years, although this is far from a certainty.\n",
    "\n",
    "When reading about AI revolutions in the press we need to remember in reality it is a deep learning revolution.\n",
    "Deep learning is not a silver bullet, while it will continue to make huge strides in some areas (very high dimensional proplems with huge datasets) it is unliekly to have any impact in others. \n",
    "\n",
    "If we do not unsterstand the strengths and weeknesses of deep learning and communicate them to manage expectations we risk a damaging gap between expectation and reality, between researchers and technologists which could be harmful for future progress. "
   ]
  }
 ],
 "metadata": {
  "kernelspec": {
   "display_name": "Python 3",
   "language": "python",
   "name": "python3"
  },
  "language_info": {
   "codemirror_mode": {
    "name": "ipython",
    "version": 3
   },
   "file_extension": ".py",
   "mimetype": "text/x-python",
   "name": "python",
   "nbconvert_exporter": "python",
   "pygments_lexer": "ipython3",
   "version": "3.6.3"
  }
 },
 "nbformat": 4,
 "nbformat_minor": 2
}

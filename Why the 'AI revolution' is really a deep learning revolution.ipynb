{
 "cells": [
  {
   "cell_type": "code",
   "execution_count": 1,
   "metadata": {
    "collapsed": true
   },
   "outputs": [],
   "source": [
    "import pandas as pd\n",
    "import matplotlib.pyplot as plt\n",
    "from sklearn.feature_extraction.text import CountVectorizer\n",
    "import numpy as np\n",
    "from collections import Counter\n",
    "\n",
    "%matplotlib inline"
   ]
  },
  {
   "cell_type": "markdown",
   "metadata": {},
   "source": [
    "# Why the 'AI revolution' is really a deep learning revolution\n",
    "\n",
    "## Introduction\n",
    "\n",
    "We often hear that there's been an explosion in AI research, that AI is advancing a breakneck speed.\n",
    "However, when we look at computer science publications we see no evidence of such changes in the AI research landscape.\n",
    "Infact many traditional fields such as logic programming, evolutionary algorithms, bayesian statistics are on the decline.\n",
    "What we do see is a unprecidented explosion of publications in the field of deep learning.\n",
    "Since 2012 deep learning has gone from an unused term to a phrase that dominates the landscape.\n",
    "We estimate that more than one fith of AI or similar publications are now part of a deep learning gold rush.\n",
    "\n",
    "## Dataset\n",
    "\n",
    "The study uses the Kaggle Arxiv dataset. \n",
    "A collection of metadata about 41000 publications since 1995 tagged with:\n",
    "* Machine Learning\n",
    "* Computation and Language\n",
    "* Artificial Inteligence\n",
    "* Computer Vision\n",
    "* Neural and Evolutionary Computing\n",
    "\n",
    "IMPORTANT NOTE: We need to reproduce this data ourselves in order to completely trust it. Volunteers are welcome.\n",
    "\n",
    "You can download the dataset [here](https://www.kaggle.com/neelshah18/arxivdataset/activity)."
   ]
  },
  {
   "cell_type": "code",
   "execution_count": 25,
   "metadata": {},
   "outputs": [
    {
     "data": {
      "text/html": [
       "<div>\n",
       "<style>\n",
       "    .dataframe thead tr:only-child th {\n",
       "        text-align: right;\n",
       "    }\n",
       "\n",
       "    .dataframe thead th {\n",
       "        text-align: left;\n",
       "    }\n",
       "\n",
       "    .dataframe tbody tr th {\n",
       "        vertical-align: top;\n",
       "    }\n",
       "</style>\n",
       "<table border=\"1\" class=\"dataframe\">\n",
       "  <thead>\n",
       "    <tr style=\"text-align: right;\">\n",
       "      <th></th>\n",
       "      <th>author</th>\n",
       "      <th>day</th>\n",
       "      <th>id</th>\n",
       "      <th>link</th>\n",
       "      <th>month</th>\n",
       "      <th>summary</th>\n",
       "      <th>tag</th>\n",
       "      <th>title</th>\n",
       "      <th>year</th>\n",
       "    </tr>\n",
       "  </thead>\n",
       "  <tbody>\n",
       "    <tr>\n",
       "      <th>0</th>\n",
       "      <td>[{'name': 'Ahmed Osman'}, {'name': 'Wojciech S...</td>\n",
       "      <td>1</td>\n",
       "      <td>1802.00209v1</td>\n",
       "      <td>[{'rel': 'alternate', 'href': 'http://arxiv.or...</td>\n",
       "      <td>2</td>\n",
       "      <td>We propose an architecture for VQA which utili...</td>\n",
       "      <td>[{'term': 'cs.AI', 'scheme': 'http://arxiv.org...</td>\n",
       "      <td>Dual Recurrent Attention Units for Visual Ques...</td>\n",
       "      <td>2018</td>\n",
       "    </tr>\n",
       "    <tr>\n",
       "      <th>1</th>\n",
       "      <td>[{'name': 'Ji Young Lee'}, {'name': 'Franck De...</td>\n",
       "      <td>12</td>\n",
       "      <td>1603.03827v1</td>\n",
       "      <td>[{'rel': 'alternate', 'href': 'http://arxiv.or...</td>\n",
       "      <td>3</td>\n",
       "      <td>Recent approaches based on artificial neural n...</td>\n",
       "      <td>[{'term': 'cs.CL', 'scheme': 'http://arxiv.org...</td>\n",
       "      <td>Sequential Short-Text Classification with Recu...</td>\n",
       "      <td>2016</td>\n",
       "    </tr>\n",
       "    <tr>\n",
       "      <th>2</th>\n",
       "      <td>[{'name': 'Iulian Vlad Serban'}, {'name': 'Tim...</td>\n",
       "      <td>2</td>\n",
       "      <td>1606.00776v2</td>\n",
       "      <td>[{'rel': 'alternate', 'href': 'http://arxiv.or...</td>\n",
       "      <td>6</td>\n",
       "      <td>We introduce the multiresolution recurrent neu...</td>\n",
       "      <td>[{'term': 'cs.CL', 'scheme': 'http://arxiv.org...</td>\n",
       "      <td>Multiresolution Recurrent Neural Networks: An ...</td>\n",
       "      <td>2016</td>\n",
       "    </tr>\n",
       "    <tr>\n",
       "      <th>3</th>\n",
       "      <td>[{'name': 'Sebastian Ruder'}, {'name': 'Joachi...</td>\n",
       "      <td>23</td>\n",
       "      <td>1705.08142v2</td>\n",
       "      <td>[{'rel': 'alternate', 'href': 'http://arxiv.or...</td>\n",
       "      <td>5</td>\n",
       "      <td>Multi-task learning is motivated by the observ...</td>\n",
       "      <td>[{'term': 'stat.ML', 'scheme': 'http://arxiv.o...</td>\n",
       "      <td>Learning what to share between loosely related...</td>\n",
       "      <td>2017</td>\n",
       "    </tr>\n",
       "    <tr>\n",
       "      <th>4</th>\n",
       "      <td>[{'name': 'Iulian V. Serban'}, {'name': 'Chinn...</td>\n",
       "      <td>7</td>\n",
       "      <td>1709.02349v2</td>\n",
       "      <td>[{'rel': 'alternate', 'href': 'http://arxiv.or...</td>\n",
       "      <td>9</td>\n",
       "      <td>We present MILABOT: a deep reinforcement learn...</td>\n",
       "      <td>[{'term': 'cs.CL', 'scheme': 'http://arxiv.org...</td>\n",
       "      <td>A Deep Reinforcement Learning Chatbot</td>\n",
       "      <td>2017</td>\n",
       "    </tr>\n",
       "  </tbody>\n",
       "</table>\n",
       "</div>"
      ],
      "text/plain": [
       "                                              author  day            id  \\\n",
       "0  [{'name': 'Ahmed Osman'}, {'name': 'Wojciech S...    1  1802.00209v1   \n",
       "1  [{'name': 'Ji Young Lee'}, {'name': 'Franck De...   12  1603.03827v1   \n",
       "2  [{'name': 'Iulian Vlad Serban'}, {'name': 'Tim...    2  1606.00776v2   \n",
       "3  [{'name': 'Sebastian Ruder'}, {'name': 'Joachi...   23  1705.08142v2   \n",
       "4  [{'name': 'Iulian V. Serban'}, {'name': 'Chinn...    7  1709.02349v2   \n",
       "\n",
       "                                                link  month  \\\n",
       "0  [{'rel': 'alternate', 'href': 'http://arxiv.or...      2   \n",
       "1  [{'rel': 'alternate', 'href': 'http://arxiv.or...      3   \n",
       "2  [{'rel': 'alternate', 'href': 'http://arxiv.or...      6   \n",
       "3  [{'rel': 'alternate', 'href': 'http://arxiv.or...      5   \n",
       "4  [{'rel': 'alternate', 'href': 'http://arxiv.or...      9   \n",
       "\n",
       "                                             summary  \\\n",
       "0  We propose an architecture for VQA which utili...   \n",
       "1  Recent approaches based on artificial neural n...   \n",
       "2  We introduce the multiresolution recurrent neu...   \n",
       "3  Multi-task learning is motivated by the observ...   \n",
       "4  We present MILABOT: a deep reinforcement learn...   \n",
       "\n",
       "                                                 tag  \\\n",
       "0  [{'term': 'cs.AI', 'scheme': 'http://arxiv.org...   \n",
       "1  [{'term': 'cs.CL', 'scheme': 'http://arxiv.org...   \n",
       "2  [{'term': 'cs.CL', 'scheme': 'http://arxiv.org...   \n",
       "3  [{'term': 'stat.ML', 'scheme': 'http://arxiv.o...   \n",
       "4  [{'term': 'cs.CL', 'scheme': 'http://arxiv.org...   \n",
       "\n",
       "                                               title  year  \n",
       "0  Dual Recurrent Attention Units for Visual Ques...  2018  \n",
       "1  Sequential Short-Text Classification with Recu...  2016  \n",
       "2  Multiresolution Recurrent Neural Networks: An ...  2016  \n",
       "3  Learning what to share between loosely related...  2017  \n",
       "4              A Deep Reinforcement Learning Chatbot  2017  "
      ]
     },
     "execution_count": 25,
     "metadata": {},
     "output_type": "execute_result"
    }
   ],
   "source": [
    "# load in the dataset\n",
    "data = pd.read_json('./arxivData.json', lines=False)\n",
    "tags = list(map(eval, data['tag']))\n",
    "data.head()"
   ]
  },
  {
   "cell_type": "code",
   "execution_count": 24,
   "metadata": {},
   "outputs": [
    {
     "data": {
      "text/plain": [
       "[('cs.CV', 13902),\n",
       " ('cs.LG', 13735),\n",
       " ('cs.AI', 10481),\n",
       " ('cs.CL', 6417),\n",
       " ('cs.NE', 3819)]"
      ]
     },
     "execution_count": 24,
     "metadata": {},
     "output_type": "execute_result"
    }
   ],
   "source": [
    "# examine the most popular tags\n",
    "tag_counts = Counter(row['term'] for tag in tags for row in tag if row['term'][:2] == 'cs')\n",
    "sorted(tag_counts.items(), key = lambda x: x[1], reverse=True)[:5]"
   ]
  },
  {
   "cell_type": "markdown",
   "metadata": {},
   "source": [
    "## Preprocessing\n",
    "\n",
    "Create some columns in the dataset to mark the presence of some key words."
   ]
  },
  {
   "cell_type": "code",
   "execution_count": 43,
   "metadata": {
    "collapsed": true
   },
   "outputs": [],
   "source": [
    "data['is_deep'] = data['title'].str.contains('deep', case=False)\n",
    "data['is_adversarial'] = data['title'].str.contains('adversarial', case=False)\n",
    "data['is_reinforcement'] = data['title'].str.contains('reinforcement', case=False)\n",
    "data['is_convolutional'] = data['title'].str.contains('convolutional', case=False)\n",
    "# data['is_bayesian'] = data['title'].str.contains('bayesian', case=False)\n",
    "data['is_ai'] = data['title'].str.contains(' ai ', case=False)\n",
    "data['is_artificial_intelligence'] = data['title'].str.contains('artificial intelligence', case=False)\n",
    "# data['is_bandit_algorithm'] = data['title'].str.contains('bandit algorithm', case=False)\n",
    "data['is_logic'] = data['title'].str.contains('logic', case=False)\n",
    "# data['is_algorithm'] = data['title'].str.contains('algorithm', case=False)\n",
    "data['is_evolutionary'] = data['title'].str.contains('evolutionary', case=False)\n",
    "# data['is_fuzzy_logic'] = data['title'].str.contains('fuzzy logic', case=False)"
   ]
  },
  {
   "cell_type": "markdown",
   "metadata": {},
   "source": [
    "## Results\n",
    "\n",
    "### Word counts, in titles, per year\n",
    "\n",
    "Fuzzy logic and logical programming were staples of AI research through the late ninties and early 21st century.\n",
    "Below we can see a steady rate of publications containing the word `logic` in the title. \n",
    "There has been a gradual decline since 2012."
   ]
  },
  {
   "cell_type": "code",
   "execution_count": 36,
   "metadata": {},
   "outputs": [
    {
     "data": {
      "image/png": "[encoded data removed]",
      "text/plain": [
       "<matplotlib.figure.Figure at 0x1a186094e0>"
      ]
     },
     "metadata": {},
     "output_type": "display_data"
    }
   ],
   "source": [
    "counts = {}\n",
    "for year, group in data.groupby('year'):\n",
    "    counts[year] = {'freq': sum(group['is_logic'] > 0), 'total': len(group)}\n",
    "    \n",
    "hist = []\n",
    "years = sorted(counts.keys())    \n",
    "for year in years:\n",
    "    hist.append(100 * counts[year]['freq'] / counts[year]['total'])\n",
    "\n",
    "plt.xlabel('year')\n",
    "plt.title('Percentage of titles containing \"logic\" for each year')\n",
    "plt.bar(years[2:-1], hist[2:-1])\n",
    "plt.show()"
   ]
  },
  {
   "cell_type": "markdown",
   "metadata": {},
   "source": [
    "Similarly evolutionary algorithms peaked in 2005 with a gradual rise and fall either side."
   ]
  },
  {
   "cell_type": "code",
   "execution_count": 37,
   "metadata": {},
   "outputs": [
    {
     "data": {
      "image/png": "[encoded data removed]",
      "text/plain": [
       "<matplotlib.figure.Figure at 0x1a2c3761d0>"
      ]
     },
     "metadata": {},
     "output_type": "display_data"
    }
   ],
   "source": [
    "counts = {}\n",
    "for year, group in data.groupby('year'):\n",
    "    counts[year] = {'freq': sum(group['is_evolutionary'] > 0), 'total': len(group)}\n",
    "    \n",
    "hist = []\n",
    "years = sorted(counts.keys())    \n",
    "for year in years:\n",
    "    hist.append(100 * counts[year]['freq'] / counts[year]['total'])\n",
    "\n",
    "plt.xlabel('year')\n",
    "plt.title('Percentage of titles containing \"evolutionary\" for each year')\n",
    "plt.bar(years[:-1], hist[:-1])\n",
    "plt.show()"
   ]
  },
  {
   "cell_type": "markdown",
   "metadata": {},
   "source": [
    "In stark contrast with the previous two examples titles containing the word deep have exploded."
   ]
  },
  {
   "cell_type": "code",
   "execution_count": 35,
   "metadata": {},
   "outputs": [
    {
     "data": {
      "image/png": "[encoded data removed]",
      "text/plain": [
       "<matplotlib.figure.Figure at 0x1a10fe6b38>"
      ]
     },
     "metadata": {},
     "output_type": "display_data"
    }
   ],
   "source": [
    "counts = {}\n",
    "for year, group in data.groupby('year'):\n",
    "    counts[year] = {\n",
    "        'freq': sum(group['is_deep']),\n",
    "        'total': len(group)\n",
    "    }\n",
    "\n",
    "hist = []\n",
    "years = sorted(counts.keys())\n",
    "for year in years:\n",
    "    hist.append(100 * counts[year]['freq'] / counts[year]['total'])\n",
    "\n",
    "plt.xlabel('year')\n",
    "plt.title('Percentage of titles containing the \"deep\" for each year')\n",
    "\n",
    "plt.bar(years[:-1], hist[:-1])\n",
    "plt.show()"
   ]
  },
  {
   "cell_type": "markdown",
   "metadata": {},
   "source": [
    "When we examine several words indicative of deep learning research such as `deep`, `adversarial` and `convolutional` we see what appears to be exponential growth from around 2012."
   ]
  },
  {
   "cell_type": "code",
   "execution_count": 41,
   "metadata": {},
   "outputs": [
    {
     "data": {
      "image/png": "[encoded data removed]",
      "text/plain": [
       "<matplotlib.figure.Figure at 0x1a2b9ee898>"
      ]
     },
     "metadata": {},
     "output_type": "display_data"
    }
   ],
   "source": [
    "counts = {}\n",
    "for year, group in data.groupby('year'):\n",
    "    counts[year] = {\n",
    "        'freq': sum(group['is_deep'] | group['is_adversarial'] | group['is_convolutional']),\n",
    "        'total': len(group)\n",
    "    }\n",
    "\n",
    "hist = []\n",
    "years = sorted(counts.keys())\n",
    "for year in years:\n",
    "    hist.append(100 * counts[year]['freq'] / counts[year]['total'])\n",
    "    \n",
    "plt.bar(years[:-1], hist[:-1])\n",
    "plt.xlabel('year')\n",
    "plt.title('Percentage of titles containing the \"deep\",\\n\"adversarial\" or \"convolutional\"  for each year')\n",
    "plt.show()"
   ]
  },
  {
   "cell_type": "markdown",
   "metadata": {},
   "source": [
    "As a side note observe that the terms such as `artificial_intelligence` or `ai` are not commonly used in titles.\n",
    "139 out of 41000 titles contain one of these terms (fewer than 0.5%)"
   ]
  },
  {
   "cell_type": "code",
   "execution_count": 46,
   "metadata": {},
   "outputs": [
    {
     "data": {
      "text/plain": [
       "(139, 41000)"
      ]
     },
     "execution_count": 46,
     "metadata": {},
     "output_type": "execute_result"
    }
   ],
   "source": [
    "len(data[data['is_artificial_intelligence'] | data['is_ai']]), len(data)"
   ]
  },
  {
   "cell_type": "markdown",
   "metadata": {},
   "source": [
    "## Which words have changed?\n",
    "\n",
    "Next we examine which words have seen the biggest increase or decreate in usage pre and post 2012"
   ]
  },
  {
   "cell_type": "code",
   "execution_count": 47,
   "metadata": {},
   "outputs": [],
   "source": [
    "base_cv = CountVectorizer(analyzer='word', stop_words='english', ngram_range=[1, 2])\n",
    "base_cv = base_cv.fit(data['title'])\n",
    "\n",
    "cv = CountVectorizer(analyzer='word', stop_words='english', ngram_range=[1,2], vocabulary=base_cv.vocabulary_.keys())\n",
    "arr = cv.fit_transform(data[data['year'] < 2012]['title'])\n",
    "old_counts = np.array(np.sum(arr, axis=0)).flatten() / arr.shape[0]\n",
    "\n",
    "cv = CountVectorizer(analyzer='word', stop_words='english', ngram_range=[1, 2], vocabulary=base_cv.vocabulary_.keys())\n",
    "arr = cv.fit_transform(data[data['year'] > 2012]['title'])\n",
    "new_counts = np.array(np.sum(arr, axis=0)).flatten()  / arr.shape[0]"
   ]
  },
  {
   "cell_type": "code",
   "execution_count": 48,
   "metadata": {},
   "outputs": [],
   "source": [
    "diff = 100 * (new_counts - old_counts)\n",
    "keys = list(base_cv.vocabulary_.keys())\n",
    "arg_diff = np.argsort(diff)"
   ]
  },
  {
   "cell_type": "markdown",
   "metadata": {},
   "source": [
    "### Pre - 2012"
   ]
  },
  {
   "cell_type": "code",
   "execution_count": 50,
   "metadata": {},
   "outputs": [
    {
     "data": {
      "text/html": [
       "<div>\n",
       "<style>\n",
       "    .dataframe thead tr:only-child th {\n",
       "        text-align: right;\n",
       "    }\n",
       "\n",
       "    .dataframe thead th {\n",
       "        text-align: left;\n",
       "    }\n",
       "\n",
       "    .dataframe tbody tr th {\n",
       "        vertical-align: top;\n",
       "    }\n",
       "</style>\n",
       "<table border=\"1\" class=\"dataframe\">\n",
       "  <thead>\n",
       "    <tr style=\"text-align: right;\">\n",
       "      <th></th>\n",
       "      <th>word</th>\n",
       "      <th>old freq (%)</th>\n",
       "      <th>new freq (%)</th>\n",
       "      <th>ratio</th>\n",
       "    </tr>\n",
       "  </thead>\n",
       "  <tbody>\n",
       "    <tr>\n",
       "      <th>0</th>\n",
       "      <td>logic</td>\n",
       "      <td>3.271272</td>\n",
       "      <td>0.681999</td>\n",
       "      <td>0.208481</td>\n",
       "    </tr>\n",
       "    <tr>\n",
       "      <th>1</th>\n",
       "      <td>algorithm</td>\n",
       "      <td>4.576301</td>\n",
       "      <td>2.419108</td>\n",
       "      <td>0.528617</td>\n",
       "    </tr>\n",
       "    <tr>\n",
       "      <th>2</th>\n",
       "      <td>systems</td>\n",
       "      <td>2.871063</td>\n",
       "      <td>1.305890</td>\n",
       "      <td>0.454846</td>\n",
       "    </tr>\n",
       "    <tr>\n",
       "      <th>3</th>\n",
       "      <td>programming</td>\n",
       "      <td>2.296851</td>\n",
       "      <td>0.782923</td>\n",
       "      <td>0.340868</td>\n",
       "    </tr>\n",
       "    <tr>\n",
       "      <th>4</th>\n",
       "      <td>algorithms</td>\n",
       "      <td>3.114669</td>\n",
       "      <td>1.645361</td>\n",
       "      <td>0.528262</td>\n",
       "    </tr>\n",
       "    <tr>\n",
       "      <th>5</th>\n",
       "      <td>constraint</td>\n",
       "      <td>1.809640</td>\n",
       "      <td>0.373112</td>\n",
       "      <td>0.206180</td>\n",
       "    </tr>\n",
       "    <tr>\n",
       "      <th>6</th>\n",
       "      <td>theory</td>\n",
       "      <td>2.053245</td>\n",
       "      <td>0.730932</td>\n",
       "      <td>0.355988</td>\n",
       "    </tr>\n",
       "    <tr>\n",
       "      <th>7</th>\n",
       "      <td>search</td>\n",
       "      <td>2.401253</td>\n",
       "      <td>1.281424</td>\n",
       "      <td>0.533648</td>\n",
       "    </tr>\n",
       "    <tr>\n",
       "      <th>8</th>\n",
       "      <td>evolutionary</td>\n",
       "      <td>1.670437</td>\n",
       "      <td>0.578017</td>\n",
       "      <td>0.346027</td>\n",
       "    </tr>\n",
       "    <tr>\n",
       "      <th>9</th>\n",
       "      <td>problem</td>\n",
       "      <td>1.983644</td>\n",
       "      <td>0.905254</td>\n",
       "      <td>0.456359</td>\n",
       "    </tr>\n",
       "  </tbody>\n",
       "</table>\n",
       "</div>"
      ],
      "text/plain": [
       "           word  old freq (%)  new freq (%)     ratio\n",
       "0         logic      3.271272      0.681999  0.208481\n",
       "1     algorithm      4.576301      2.419108  0.528617\n",
       "2       systems      2.871063      1.305890  0.454846\n",
       "3   programming      2.296851      0.782923  0.340868\n",
       "4    algorithms      3.114669      1.645361  0.528262\n",
       "5    constraint      1.809640      0.373112  0.206180\n",
       "6        theory      2.053245      0.730932  0.355988\n",
       "7        search      2.401253      1.281424  0.533648\n",
       "8  evolutionary      1.670437      0.578017  0.346027\n",
       "9       problem      1.983644      0.905254  0.456359"
      ]
     },
     "execution_count": 50,
     "metadata": {},
     "output_type": "execute_result"
    }
   ],
   "source": [
    "pd.DataFrame(\n",
    "    [(keys[i], 100*old_counts[i], 100*new_counts[i], new_counts[i]/old_counts[i]) for i in arg_diff[:10]], \n",
    "    columns = ['word', 'old freq (%)', 'new freq (%)', 'ratio']\n",
    ")"
   ]
  },
  {
   "cell_type": "markdown",
   "metadata": {},
   "source": [
    "### Post - 2012"
   ]
  },
  {
   "cell_type": "code",
   "execution_count": 51,
   "metadata": {},
   "outputs": [
    {
     "name": "stderr",
     "output_type": "stream",
     "text": [
      "/Users/dstaff/anaconda3/lib/python3.6/site-packages/ipykernel_launcher.py:2: RuntimeWarning: divide by zero encountered in double_scalars\n",
      "  \n"
     ]
    },
    {
     "data": {
      "text/html": [
       "<div>\n",
       "<style>\n",
       "    .dataframe thead tr:only-child th {\n",
       "        text-align: right;\n",
       "    }\n",
       "\n",
       "    .dataframe thead th {\n",
       "        text-align: left;\n",
       "    }\n",
       "\n",
       "    .dataframe tbody tr th {\n",
       "        vertical-align: top;\n",
       "    }\n",
       "</style>\n",
       "<table border=\"1\" class=\"dataframe\">\n",
       "  <thead>\n",
       "    <tr style=\"text-align: right;\">\n",
       "      <th></th>\n",
       "      <th>word</th>\n",
       "      <th>old freq (%)</th>\n",
       "      <th>new freq (%)</th>\n",
       "      <th>ratio</th>\n",
       "    </tr>\n",
       "  </thead>\n",
       "  <tbody>\n",
       "    <tr>\n",
       "      <th>0</th>\n",
       "      <td>deep learning</td>\n",
       "      <td>0.017400</td>\n",
       "      <td>2.464983</td>\n",
       "      <td>141.662548</td>\n",
       "    </tr>\n",
       "    <tr>\n",
       "      <th>1</th>\n",
       "      <td>convolutional neural</td>\n",
       "      <td>0.000000</td>\n",
       "      <td>2.562848</td>\n",
       "      <td>inf</td>\n",
       "    </tr>\n",
       "    <tr>\n",
       "      <th>2</th>\n",
       "      <td>detection</td>\n",
       "      <td>2.157647</td>\n",
       "      <td>4.749526</td>\n",
       "      <td>2.201252</td>\n",
       "    </tr>\n",
       "    <tr>\n",
       "      <th>3</th>\n",
       "      <td>image</td>\n",
       "      <td>2.871063</td>\n",
       "      <td>5.963668</td>\n",
       "      <td>2.077163</td>\n",
       "    </tr>\n",
       "    <tr>\n",
       "      <th>4</th>\n",
       "      <td>neural networks</td>\n",
       "      <td>1.357230</td>\n",
       "      <td>5.229678</td>\n",
       "      <td>3.853200</td>\n",
       "    </tr>\n",
       "    <tr>\n",
       "      <th>5</th>\n",
       "      <td>convolutional</td>\n",
       "      <td>0.017400</td>\n",
       "      <td>4.327482</td>\n",
       "      <td>248.700379</td>\n",
       "    </tr>\n",
       "    <tr>\n",
       "      <th>6</th>\n",
       "      <td>neural</td>\n",
       "      <td>3.149469</td>\n",
       "      <td>10.018961</td>\n",
       "      <td>3.181159</td>\n",
       "    </tr>\n",
       "    <tr>\n",
       "      <th>7</th>\n",
       "      <td>networks</td>\n",
       "      <td>3.323473</td>\n",
       "      <td>10.382898</td>\n",
       "      <td>3.124111</td>\n",
       "    </tr>\n",
       "    <tr>\n",
       "      <th>8</th>\n",
       "      <td>learning</td>\n",
       "      <td>9.970419</td>\n",
       "      <td>18.114258</td>\n",
       "      <td>1.816800</td>\n",
       "    </tr>\n",
       "    <tr>\n",
       "      <th>9</th>\n",
       "      <td>deep</td>\n",
       "      <td>0.191404</td>\n",
       "      <td>9.991437</td>\n",
       "      <td>52.200716</td>\n",
       "    </tr>\n",
       "  </tbody>\n",
       "</table>\n",
       "</div>"
      ],
      "text/plain": [
       "                   word  old freq (%)  new freq (%)       ratio\n",
       "0         deep learning      0.017400      2.464983  141.662548\n",
       "1  convolutional neural      0.000000      2.562848         inf\n",
       "2             detection      2.157647      4.749526    2.201252\n",
       "3                 image      2.871063      5.963668    2.077163\n",
       "4       neural networks      1.357230      5.229678    3.853200\n",
       "5         convolutional      0.017400      4.327482  248.700379\n",
       "6                neural      3.149469     10.018961    3.181159\n",
       "7              networks      3.323473     10.382898    3.124111\n",
       "8              learning      9.970419     18.114258    1.816800\n",
       "9                  deep      0.191404      9.991437   52.200716"
      ]
     },
     "execution_count": 51,
     "metadata": {},
     "output_type": "execute_result"
    }
   ],
   "source": [
    "pd.DataFrame(\n",
    "    [(keys[i], 100*old_counts[i], 100*new_counts[i], new_counts[i]/old_counts[i]) for i in arg_diff[-10:]],\n",
    "    columns = ['word', 'old freq (%)', 'new freq (%)', 'ratio']\n",
    ")"
   ]
  },
  {
   "cell_type": "markdown",
   "metadata": {},
   "source": [
    "Words such as:\n",
    "* logic\n",
    "* programming\n",
    "* algorithms\n",
    "* evolutionary\n",
    "\n",
    "used to appear in between 1% and 5% or titles.\n",
    "Their usage has generally been cut by a half or a third.\n",
    "\n",
    "Words (and word pairs) such as:\n",
    "* deep learning\n",
    "* deep\n",
    "* convolutional\n",
    "\n",
    "have increased dramatically. In some cases they appear over 100 times more often than after 2012 compared to before 2012."
   ]
  },
  {
   "cell_type": "markdown",
   "metadata": {},
   "source": [
    "# Conclusions\n",
    "\n",
    "The computer science AI landscape has transformed since 2012.\n",
    "Pre 2012 there were a braod range of topics such as `fuzzy logic`, `logic programming`, `evolutionary algorithms`.\n",
    "There each had a presence in 1%-5% of publications.\n",
    "Frequently domain specific algorithms were published that solve niche problems such as face detection or optimal searches.\n",
    "\n",
    "Post 2012 the landscape has become much more monolithic with one topic, deep learning, dominating the landscape.\n",
    "Deep learning has come from obscurity to ubiquity, the subject of approximately one in five publications whilst still growings in its share.\n",
    "Following the incredibly rapid trends demonstated above deep learning is on course to saturate AI research in the next few years, although this is far from a certainty.\n",
    "\n",
    "When reading about AI revolutions in the press we need to remember in reality it is a deep learning revolution.\n",
    "Deep learning is not a silver bullet, while it will continue to make huge strides in some areas (very high dimensional proplems with huge datasets) it is unliekly to have any impact in others. \n",
    "\n",
    "If we do not unsterstand the strengths and weeknesses of deep learning and communicate them to manage expectations we risk a damaging gap between expectation and reality, between researchers and technologists which could be harmful for future progress. "
   ]
  }
 ],
 "metadata": {
  "kernelspec": {
   "display_name": "Python 3",
   "language": "python",
   "name": "python3"
  },
  "language_info": {
   "codemirror_mode": {
    "name": "ipython",
    "version": 3
   },
   "file_extension": ".py",
   "mimetype": "text/x-python",
   "name": "python",
   "nbconvert_exporter": "python",
   "pygments_lexer": "ipython3",
   "version": "3.6.3"
  }
 },
 "nbformat": 4,
 "nbformat_minor": 2
}
